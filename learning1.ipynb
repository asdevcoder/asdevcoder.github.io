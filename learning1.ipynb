{
  "nbformat": 4,
  "nbformat_minor": 0,
  "metadata": {
    "colab": {
      "provenance": [],
      "authorship_tag": "ABX9TyPGWzk9CJdUe2wEpQXYSI+l",
      "include_colab_link": true
    },
    "kernelspec": {
      "name": "python3",
      "display_name": "Python 3"
    },
    "language_info": {
      "name": "python"
    }
  },
  "cells": [
    {
      "cell_type": "markdown",
      "metadata": {
        "id": "view-in-github",
        "colab_type": "text"
      },
      "source": [
        "<a href=\"https://colab.research.google.com/github/asdevcoder/asdevcoder.github.io/blob/master/learning1.ipynb\" target=\"_parent\"><img src=\"https://colab.research.google.com/assets/colab-badge.svg\" alt=\"Open In Colab\"/></a>"
      ]
    },
    {
      "cell_type": "code",
      "execution_count": null,
      "metadata": {
        "colab": {
          "base_uri": "https://localhost:8080/"
        },
        "id": "_gbH8l3_TJh9",
        "outputId": "da02d446-eef7-4e17-8289-23bc77d84129"
      },
      "outputs": [
        {
          "output_type": "stream",
          "name": "stdout",
          "text": [
            "5\n",
            "[1, 2, 3, 4, 5, 6, 1, 2, 3, 4, 5]\n",
            "10\n",
            "[1, 2, 3, 4, 5, 6, 1, 2, 3, 4, 5]\n",
            "15\n",
            "[1, 2, 3, 4, 5, 6, 1, 2, 3, 4, 5]\n",
            "20\n",
            "[1, 2, 3, 4, 5, 6, 1, 2, 3, 4, 5]\n",
            "25\n",
            "[1, 2, 3, 4, 5, 6, 1, 2, 3, 4, 5]\n",
            "30\n",
            "[1, 2, 3, 4, 5, 6, 1, 2, 3, 4, 5]\n",
            "5\n",
            "[1, 2, 3, 4, 5, 6, 1, 2, 3, 4, 5]\n",
            "10\n",
            "[1, 2, 3, 4, 5, 6, 1, 2, 3, 4, 5]\n",
            "15\n",
            "[1, 2, 3, 4, 5, 6, 1, 2, 3, 4, 5]\n",
            "20\n",
            "[1, 2, 3, 4, 5, 6, 1, 2, 3, 4, 5]\n",
            "25\n",
            "[1, 2, 3, 4, 5, 6, 1, 2, 3, 4, 5]\n"
          ]
        }
      ],
      "source": [
        "def pick_tissue (numberoftimes):\n",
        "\n",
        "  print(5 * numberoftimes)\n",
        "randomList= [1, 2,3,4,5,6]\n",
        "randomList2 = (1,2,3,4,5)\n",
        "randomList.extend(randomList2)\n",
        "for x in randomList:\n",
        "  pick_tissue (x)\n",
        "  print(randomList) #assignment after doing few python refresher"
      ]
    }
  ]
}